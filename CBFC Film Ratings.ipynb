{
 "cells": [
  {
   "cell_type": "code",
   "execution_count": 1,
   "id": "e1e213da-bbec-4f64-9426-1f0aeb4839e8",
   "metadata": {},
   "outputs": [],
   "source": [
    "import camelot\n",
    "import pandas as pd"
   ]
  },
  {
   "cell_type": "code",
   "execution_count": 2,
   "id": "f65526a9-e4bb-47d7-ae63-53ae69bcdb35",
   "metadata": {},
   "outputs": [],
   "source": [
    "pd.options.display.max_rows = 5000"
   ]
  },
  {
   "cell_type": "code",
   "execution_count": 3,
   "id": "3edeb135-36f6-41c9-90ed-68f955082163",
   "metadata": {},
   "outputs": [],
   "source": [
    "def create_dataframe(tables):\n",
    "    \"\"\" \n",
    "    Function to clean up and combine the tables retrieved from each page of the pdf file\n",
    "\n",
    "    :param TableList tables: List of tables retrieved from the PDF\n",
    "    \"\"\"\n",
    "    # Combine all tables in the TableList to one dataframe\n",
    "    df = pd.concat([table.df for table in tables], ignore_index = True)\n",
    "    \n",
    "    # Set first row as column header\n",
    "    headers = df.iloc[0].values\n",
    "    df.columns = headers\n",
    "    df.drop(index = 0, axis = 0, inplace = True)\n",
    "\n",
    "    # Set new column names\n",
    "    df.columns = ['number','title','language','certificate_no','certificate_date','certified_duration','type_of_film','producer_name','production_house','certificate_type']\n",
    "\n",
    "    df.loc[(df['number'] == ''),['number','title']] = df[(df['number'] == '')]['title'].str.split(' ', n = 1, expand = True).rename(columns = {0:'number',1:'title'})\n",
    "    \n",
    "    # Remove all rows with section headers, reset the dataframe index and remove number column\n",
    "    df['number'] = pd.to_numeric(df['number'], errors='coerce')\n",
    "    df = df[df['number'].notnull()]\n",
    "    df.drop('number', axis = 1, inplace = True)\n",
    "    df.reset_index(drop = True, inplace = True)\n",
    "\n",
    "    return df"
   ]
  },
  {
   "cell_type": "code",
   "execution_count": 4,
   "id": "03970268-e2c7-45be-800d-e38a4ccc5127",
   "metadata": {},
   "outputs": [],
   "source": [
    "def set_columntype(df):\n",
    "    \"\"\" \n",
    "    Function to set the correct column data types for certificate_date and certified_duration\n",
    "\n",
    "    :param DataFrame df: DataFrame on which to apply the column transformations\n",
    "    \"\"\"\n",
    "    # Classify date column by format type\n",
    "    df['format'] = 1\n",
    "    df.loc[df['certificate_date'].str.contains('-', na = False), 'format'] = 2\n",
    "\n",
    "    # Convert to datetime with different format settings\n",
    "    df.loc[df['format'] == 1, 'new_date'] = pd.to_datetime(df.loc[df['format'] == 1, 'certificate_date'], format='%d %B %Y')#.dt.strftime('%Y-%m-%d')\n",
    "    df.loc[df['format'] == 2, 'new_date'] = pd.to_datetime(df.loc[df['format'] == 2, 'certificate_date'], format='%d-%m-%Y')#.dt.strftime('%Y-%m-%d')\n",
    "    #df['new_date'] = pd.to_datetime(df['certificate_date'])\n",
    "\n",
    "    df[['mins','secs']] =  df['certified_duration'].str.split('.', expand = True)\n",
    "    df['mins'].fillna(0, inplace = True)\n",
    "    df['secs'].fillna(0, inplace = True)\n",
    "    df['duration_in_seconds'] = (df['mins'].astype(int) * 60) + df['secs'].astype(int)\n",
    "    df['certified_duration'] = pd.to_timedelta(df['duration_in_seconds'], unit = 's')\n",
    "    df.drop(['mins','secs','certificate_date'], axis = 1, inplace = True)\n",
    "    df.rename(columns = {'new_date': 'certificate_date'}, inplace = True)\n",
    "\n",
    "    return df"
   ]
  },
  {
   "cell_type": "code",
   "execution_count": 5,
   "id": "e66c9f84-54eb-454b-8783-3e594fcb8d1f",
   "metadata": {},
   "outputs": [],
   "source": [
    "tables_2021 = camelot.read_pdf('Films_certified_2021.pdf', pages = '1-end', strip_text = '\\n', line_scale = 50)"
   ]
  },
  {
   "cell_type": "code",
   "execution_count": 6,
   "id": "20b5f7f9-0d1b-474f-8e54-cdd0d972993a",
   "metadata": {},
   "outputs": [],
   "source": [
    "# camelot.plot(tables_2021[0], kind='grid').show()\n",
    "# camelot.plot(tables_2021[0], kind='contour').show()\n",
    "# camelot.plot(tables_2021[0], kind='line').show()\n",
    "# camelot.plot(tables_2021[0], kind='joint').show()"
   ]
  },
  {
   "cell_type": "code",
   "execution_count": 7,
   "id": "531e2cec-ad37-41b7-bb3e-c245d4c456b6",
   "metadata": {},
   "outputs": [],
   "source": [
    "df1 = create_dataframe(tables_2021)"
   ]
  },
  {
   "cell_type": "code",
   "execution_count": 10,
   "id": "e3be8736-06dd-4ebe-97a4-1eeebb5afdd1",
   "metadata": {},
   "outputs": [],
   "source": [
    "df1 = set_columntype(df1)"
   ]
  },
  {
   "cell_type": "code",
   "execution_count": 13,
   "id": "37918a13-c8f9-4ea6-b820-a92ad9c829f2",
   "metadata": {},
   "outputs": [
    {
     "name": "stdout",
     "output_type": "stream",
     "text": [
      "<class 'pandas.core.frame.DataFrame'>\n",
      "RangeIndex: 3870 entries, 0 to 3869\n",
      "Data columns (total 11 columns):\n",
      " #   Column               Non-Null Count  Dtype          \n",
      "---  ------               --------------  -----          \n",
      " 0   title                3870 non-null   object         \n",
      " 1   language             3870 non-null   object         \n",
      " 2   certificate_no       3870 non-null   object         \n",
      " 3   certified_duration   3870 non-null   timedelta64[ns]\n",
      " 4   type_of_film         3870 non-null   object         \n",
      " 5   producer_name        3870 non-null   object         \n",
      " 6   production_house     3870 non-null   object         \n",
      " 7   certificate_type     3870 non-null   object         \n",
      " 8   format               3870 non-null   int64          \n",
      " 9   certificate_date     3870 non-null   datetime64[ns] \n",
      " 10  duration_in_seconds  3870 non-null   int32          \n",
      "dtypes: datetime64[ns](1), int32(1), int64(1), object(7), timedelta64[ns](1)\n",
      "memory usage: 317.6+ KB\n"
     ]
    }
   ],
   "source": [
    "df1.info()"
   ]
  },
  {
   "cell_type": "code",
   "execution_count": 14,
   "id": "30a9a52d-be48-4b02-b874-0360e1fb75ce",
   "metadata": {},
   "outputs": [],
   "source": [
    "df1.to_csv('film_ratings_2021.csv', sep = '|', encoding='utf-8')"
   ]
  },
  {
   "cell_type": "code",
   "execution_count": null,
   "id": "95a5c5e1-9c3e-46f0-b04b-9520b300c6c8",
   "metadata": {},
   "outputs": [],
   "source": [
    "tables_2022 = camelot.read_pdf('Films_certified_2022.pdf', pages = '1-end', strip_text = '\\n', line_scale = 40) # pg 1,7,10, "
   ]
  },
  {
   "cell_type": "code",
   "execution_count": null,
   "id": "7ee9faaf-56f9-402a-b9d4-2f1fc05a373b",
   "metadata": {},
   "outputs": [],
   "source": [
    "df2 = create_dataframe(tables_2022)"
   ]
  },
  {
   "cell_type": "code",
   "execution_count": null,
   "id": "2d8c1367-7e00-4502-9607-edf0b6f5cd0d",
   "metadata": {},
   "outputs": [],
   "source": [
    "df2['no_and_date'] = df2['certificate_no'] + \" \" + df2['certificate_date']\n",
    "df2['no_and_date'] = df2['no_and_date'].str.strip()\n",
    "df2['duration_and_type'] = df2['certified_duration'] + \" \" + df2['type_of_film']\n",
    "df2['duration_and_type'] = df2['duration_and_type'].str.strip()\n",
    "df2.drop(['certificate_no','certificate_date', 'certified_duration','type_of_film'], axis = 1, inplace = True)\n",
    "df2[['certificate_no','certificate_date']] = df2['no_and_date'].str.split(' ', n = 1, expand=True)\n",
    "df2[['certified_duration','type_of_film']] = df2['duration_and_type'].str.split(' ', n = 1, expand=True)\n",
    "df2 = df2[['title','language','certificate_no','certificate_date','certified_duration','type_of_film','producer_name','production_house','certificate_type']]"
   ]
  },
  {
   "cell_type": "code",
   "execution_count": null,
   "id": "76c9908f-0ed1-43a9-8d1a-a54689ae52d3",
   "metadata": {},
   "outputs": [],
   "source": [
    "df2.loc[(df2['language']==''),['title','language']] = df2[(df2['language']=='')]['title'].str.rsplit(' ', n = 1, expand = True).rename(columns = {0:'title',1:'language'})"
   ]
  },
  {
   "cell_type": "code",
   "execution_count": null,
   "id": "75df214c-3e71-4870-aee7-6f516a4db372",
   "metadata": {},
   "outputs": [],
   "source": [
    "df2 = set_columntype(df2)"
   ]
  },
  {
   "cell_type": "code",
   "execution_count": null,
   "id": "c47c31a3-6c0b-4072-a908-ad54c8a137bc",
   "metadata": {},
   "outputs": [],
   "source": [
    "df2.info()"
   ]
  },
  {
   "cell_type": "code",
   "execution_count": null,
   "id": "f96d2f17-725a-4dc7-8732-822967943bc2",
   "metadata": {},
   "outputs": [],
   "source": [
    "df2.to_csv('film_ratings_2022.csv', sep = '|', encoding='utf-8')"
   ]
  },
  {
   "cell_type": "code",
   "execution_count": null,
   "id": "17ffcd8c-7b45-4f8f-be11-89f3252cffa2",
   "metadata": {},
   "outputs": [],
   "source": [
    "# 2023 certified films part 1 - pages 1 to 8\n",
    "tables_2023 = camelot.read_pdf('Films_certified_2023.pdf', pages = '1-8', strip_text = '\\n', line_scale = 40)"
   ]
  },
  {
   "cell_type": "code",
   "execution_count": null,
   "id": "708c3278-177d-4408-b02e-7c58999004e3",
   "metadata": {},
   "outputs": [],
   "source": [
    "# 2023 certified films part 2 - page 9 extracted with higher line_scale of 120\n",
    "tables_2023_1 = camelot.read_pdf('Films_certified_2023.pdf', pages = '9', strip_text = '\\n', line_scale = 120)\n",
    "tables_2023_1[0].df.drop([0,2,6,7,8], axis=1, inplace = True)\n",
    "tables_2023_1[0].df[9].replace('',np.nan, inplace = True)\n",
    "tables_2023_1[0].df.dropna(subset=[9], inplace=True)"
   ]
  },
  {
   "cell_type": "code",
   "execution_count": null,
   "id": "d568b455-fb45-417a-bfba-f678fa36f9b1",
   "metadata": {},
   "outputs": [],
   "source": [
    "# 2023 certified films part 3 - pages 10 to end of file\n",
    "tables_2023_2 = camelot.read_pdf('Films_certified_2023.pdf', pages = '10-end', strip_text = '\\n', line_scale = 40)"
   ]
  },
  {
   "cell_type": "code",
   "execution_count": null,
   "id": "8a7a5941-b2fc-43bb-b7b3-12109cae1fd0",
   "metadata": {},
   "outputs": [],
   "source": [
    "tables_2023_2[0].df.loc[-1] = ['number','title','language','certificate_no','certificate_date','certified_duration','type_of_film','producer_name','production_house','certificate_type']\n",
    "tables_2023_2[0].df.index = tables_2023_2[0].df.index + 1\n",
    "tables_2023_2[0].df.sort_index(inplace=True)"
   ]
  },
  {
   "cell_type": "code",
   "execution_count": null,
   "id": "9c89d9f3-963f-420d-905c-f626466f89fc",
   "metadata": {},
   "outputs": [],
   "source": [
    "# Combine all 3 parts into 1 data frame\n",
    "df = create_dataframe(tables_2023)\n",
    "df3 = pd.concat([df,tables_2023_1[0].df.rename(columns = {1:'title',3:'language',4:'certificate_no',5:'certificate_date',9:'certified_duration',10:'type_of_film',11:'producer_name',12:'production_house',13:'certificate_type'}),create_dataframe(tables_2023_2)], ignore_index = True)"
   ]
  },
  {
   "cell_type": "code",
   "execution_count": null,
   "id": "96908648-3319-493b-b6fa-b3b11e25373a",
   "metadata": {},
   "outputs": [],
   "source": [
    "df3.info()"
   ]
  },
  {
   "cell_type": "code",
   "execution_count": null,
   "id": "a281d219-29dd-4815-9c1a-b526b6788b84",
   "metadata": {},
   "outputs": [],
   "source": [
    "df3 = set_columntype(df3)"
   ]
  },
  {
   "cell_type": "code",
   "execution_count": null,
   "id": "bc38e50b-bc7f-46b0-980d-3bdcd1ca1a1a",
   "metadata": {},
   "outputs": [],
   "source": [
    "df3.to_csv('film_ratings_2023.csv', sep = '|', encoding='utf-8')"
   ]
  },
  {
   "cell_type": "code",
   "execution_count": null,
   "id": "e99b086c-bd3f-4fd7-b51e-c8263c2ce34a",
   "metadata": {},
   "outputs": [],
   "source": [
    "df_final = pd.concat([df1,df2,df3], ignore_index = True)"
   ]
  },
  {
   "cell_type": "code",
   "execution_count": null,
   "id": "4755ed33-50f7-4907-bf12-43fbcff49d14",
   "metadata": {},
   "outputs": [],
   "source": [
    "df_final.info()"
   ]
  }
 ],
 "metadata": {
  "kernelspec": {
   "display_name": "Python 3 (ipykernel)",
   "language": "python",
   "name": "python3"
  },
  "language_info": {
   "codemirror_mode": {
    "name": "ipython",
    "version": 3
   },
   "file_extension": ".py",
   "mimetype": "text/x-python",
   "name": "python",
   "nbconvert_exporter": "python",
   "pygments_lexer": "ipython3",
   "version": "3.11.7"
  }
 },
 "nbformat": 4,
 "nbformat_minor": 5
}
